{
  "nbformat": 4,
  "nbformat_minor": 0,
  "metadata": {
    "colab": {
      "provenance": [],
      "authorship_tag": "ABX9TyOvmF0uoFPvyN0+uVdr0Dci",
      "include_colab_link": true
    },
    "kernelspec": {
      "name": "python3",
      "display_name": "Python 3"
    },
    "language_info": {
      "name": "python"
    }
  },
  "cells": [
    {
      "cell_type": "markdown",
      "metadata": {
        "id": "view-in-github",
        "colab_type": "text"
      },
      "source": [
        "<a href=\"https://colab.research.google.com/github/anagha1112/ML_ALGO_SCRATCH/blob/master/2LayerNeuralNetwork.ipynb\" target=\"_parent\"><img src=\"https://colab.research.google.com/assets/colab-badge.svg\" alt=\"Open In Colab\"/></a>"
      ]
    },
    {
      "cell_type": "markdown",
      "source": [
        "### Two layer - Neural Network coded from scratch"
      ],
      "metadata": {
        "id": "WePNHZ4Zxyl4"
      }
    },
    {
      "cell_type": "code",
      "source": [
        "import numpy as np"
      ],
      "metadata": {
        "id": "bKAn5qWnzp5c"
      },
      "execution_count": null,
      "outputs": []
    },
    {
      "cell_type": "code",
      "source": [
        "\"\"\"Activation function - ReLu for Hidden layer and Sigmoid for Output layer\"\"\"\n",
        "\n",
        "def ReLU(z):\n",
        "\n",
        "  return np.maximum(0, z)\n",
        "\n",
        "def ReLU_derivative(z):\n",
        "\n",
        "    return (z > 0).astype(float)\n"
      ],
      "metadata": {
        "id": "HXFXUOfLx_bG"
      },
      "execution_count": null,
      "outputs": []
    },
    {
      "cell_type": "code",
      "source": [
        "\"\"\"Sigmoid Function\"\"\"\n",
        "\n",
        "def sigmoid(z):\n",
        "\n",
        "  return (1 / (1 + np.exp(-z)))\n",
        "\n",
        "def sigmoid_derivative(z):\n",
        "\n",
        "  s = sigmoid(z)\n",
        "  return s*(1 - s)"
      ],
      "metadata": {
        "id": "m0KF12TQ0hCH"
      },
      "execution_count": null,
      "outputs": []
    },
    {
      "cell_type": "code",
      "source": [
        "\"\"\"function for initializing paramters for layers\"\"\"\n",
        "\n",
        "def initialize_params(input_size, hiddenlayer_size, outputlayer_size):\n",
        "\n",
        "# random initialization of parameters\n",
        "\n",
        "  params = {\n",
        "      'W1': np.random.randn(input_size, hiddenlayer_size) * 0.01,\n",
        "      'b1': np.zeros((1, hiddenlayer_size)),\n",
        "      'W2': np.random.randn(hiddenlayer_size, outputlayer_size) * 0.01,\n",
        "      'b2': np.zeros((1, outputlayer_size))\n",
        "  }\n",
        "\n",
        "  return params\n"
      ],
      "metadata": {
        "id": "kQpbBT_vzoUE"
      },
      "execution_count": null,
      "outputs": []
    },
    {
      "cell_type": "code",
      "source": [
        "\"\"\"Computing the Binary Cross Entropy Loss\"\"\"\n",
        "def compute_loss(y, y_cap):\n",
        "\n",
        " m = y.shape[0]\n",
        " loss_per_sample = (-1 * y * np.log(y_cap)) - ((1 - y) * np.log(1 - y_cap))\n",
        "\n",
        " return np.sum(loss_per_sample) / m"
      ],
      "metadata": {
        "id": "S8onDIaF1sfs"
      },
      "execution_count": null,
      "outputs": []
    },
    {
      "cell_type": "code",
      "source": [
        "\"\"\"\n",
        "Performs forward propagation through a 2-layer neural network.\n",
        "\n",
        "Args:\n",
        "    input (ndarray): Input data of shape (m, input_dim)\n",
        "    params (dict): Dictionary containing weights and biases:\n",
        "                   - 'W1': weights for layer 1 (input to hidden)\n",
        "                   - 'b1': bias for layer 1\n",
        "                   - 'W2': weights for layer 2 (hidden to output)\n",
        "                   - 'b2': bias for layer 2\n",
        "\n",
        "Returns:\n",
        "    y_cap (ndarray): Predicted output after sigmoid activation (A2)\n",
        "    A1 (ndarray): Activation from hidden layer (after ReLU)\n",
        "    A2 (ndarray): Output layer activation (after sigmoid)\n",
        "    Z1 (ndarray): Linear combination before ReLU (used in backpropagation)\n",
        "\"\"\"\n",
        "\n",
        "\n",
        "def forward_pass(input, params):\n",
        "\n",
        "  Z1 = input @ params['W1'] + params['b1']\n",
        "  A1 = ReLU(Z1)\n",
        "\n",
        "  Z2 = A1 @ params['W2'] + params['b2']\n",
        "  A2 = sigmoid(Z2)\n",
        "\n",
        "  y_cap = A2\n",
        "\n",
        "  return y_cap, A1, A2, Z1"
      ],
      "metadata": {
        "id": "OYjz6UKr3I50"
      },
      "execution_count": null,
      "outputs": []
    },
    {
      "cell_type": "code",
      "source": [
        "def backpropagation(X, y_cap, y, A1, Z1, params):\n",
        "\n",
        "  m = y.shape[0]\n",
        "\n",
        "  dZ2 = y_cap - y\n",
        "  dW2 = (A1.T @ dZ2) / m\n",
        "  db2 = np.sum(dZ2, axis = 0, keepdims = True) / m\n",
        "\n",
        "  dA1 = dZ2 @  params['W2'].T\n",
        "  dZ1 = dA1 * ReLU_derivative(Z1)\n",
        "  dW1 = (X.T @ dZ1) / m\n",
        "  db1 = np.sum(dZ1, axis = 0, keepdims=True) / m\n",
        "\n",
        "  return dW1, dW2, db1, db2"
      ],
      "metadata": {
        "id": "EiXy2otVBjn5"
      },
      "execution_count": null,
      "outputs": []
    },
    {
      "cell_type": "code",
      "source": [
        "\"\"\"\n",
        "    Updates neural network parameters using gradient descent.\n",
        "\n",
        "    Args:\n",
        "        dW1, dW2: Gradients of weights\n",
        "        db1, db2: Gradients of biases\n",
        "        params (dict): Current parameters to be updated\n",
        "        learning_rate (float): Learning rate for gradient descent\n",
        "\n",
        "    Returns:\n",
        "        dict: Updated parameters\n",
        "    \"\"\"\n",
        "\n",
        "def update_params(dW1, dW2, db1, db2, params, learning_rate):\n",
        "    new_params = {}\n",
        "    new_params['W1'] = params['W1'] - learning_rate * dW1\n",
        "    new_params['W2'] = params['W2'] - learning_rate * dW2\n",
        "    new_params['b1'] = params['b1'] - learning_rate * db1\n",
        "    new_params['b2'] = params['b2'] - learning_rate * db2\n",
        "\n",
        "    return new_params\n"
      ],
      "metadata": {
        "id": "dVf2-4WFF-xF"
      },
      "execution_count": null,
      "outputs": []
    },
    {
      "cell_type": "code",
      "source": [
        "\"\"\"\n",
        "Trains a 2-layer neural network using batch gradient descent.\n",
        "\n",
        "Args:\n",
        "    X (ndarray): Input data of shape (m, input_size), where m is the number of samples.\n",
        "    y (ndarray): Ground truth labels of shape (m, 1).\n",
        "    input_size (int): Number of input features.\n",
        "    hidden_layer_size (int): Number of neurons in the hidden layer.\n",
        "    output_size (int): Number of output neurons (typically 1 for binary classification).\n",
        "    epochs (int): Number of iterations to train the network.\n",
        "    learning_rate (float): Step size used to update the parameters.\n",
        "\n",
        "Returns:\n",
        "    dict: A dictionary containing the trained network parameters:\n",
        "          - 'W1': Weights from input to hidden layer.\n",
        "          - 'b1': Biases for hidden layer.\n",
        "          - 'W2': Weights from hidden to output layer.\n",
        "          - 'b2': Biases for output layer.\n",
        "\n",
        "Prints:\n",
        "    Loss value every 100 epochs to track training progress.\n",
        "\"\"\"\n",
        "\n",
        "import matplotlib.pyplot as plt\n",
        "def train(X,y, input_size, hidden_layer_size,output_size, epochs, learning_rate):\n",
        "\n",
        "  m, n = X.shape\n",
        "  params = initialize_params(input_size, hidden_layer_size, output_size)\n",
        "  losses = []\n",
        "  for _ in range(epochs):\n",
        "\n",
        "    y_cap, A1, A2, Z1 = forward_pass(X, params )\n",
        "    loss = compute_loss(y, y_cap)\n",
        "    losses.append(loss)\n",
        "    dW1, dW2, db1, db2 = backpropagation(X, y_cap, y, A1, Z1, params)\n",
        "\n",
        "\n",
        "    params = update_params(dW1, dW2, db1, db2, params, learning_rate)\n",
        "    if _ % 50 == 0:\n",
        "      print(\"W1[0][0] =\", params[\"W1\"][0][0])\n",
        "\n",
        "      print(f\"Epoch {_}, Loss: {loss.item():.4f}\")\n",
        "\n",
        "  scalar_losses = [l.item() for l in losses]\n",
        "  plt.plot(losses)\n",
        "  plt.xlabel(\"Epoch\")\n",
        "  plt.ylabel(\"Loss\")\n",
        "  plt.title(\"Training Loss Curve\")\n",
        "  plt.show()\n",
        "\n",
        "  return params"
      ],
      "metadata": {
        "id": "QOR7sGfNGYYt"
      },
      "execution_count": null,
      "outputs": []
    },
    {
      "cell_type": "code",
      "source": [
        "def predict(X, trained_params, threshold=0.5):\n",
        "    \"\"\"\n",
        "    Predict binary labels for input data X using a trained 2-layer neural network.\n",
        "\n",
        "    Parameters:\n",
        "    - X: input data of shape (n_samples, n_features)\n",
        "    - W1, b1: weights and bias of first layer\n",
        "    - W2, b2: weights and bias of second/output layer\n",
        "    - threshold: classification threshold for converting probabilities to 0 or 1\n",
        "\n",
        "    Returns:\n",
        "    - y_prob: predicted probabilities\n",
        "    - y_pred: binary predictions (0 or 1)\n",
        "    \"\"\"\n",
        "    Z1 = np.dot(X, trained_params['W1']) + trained_params['b1']\n",
        "    A1 = ReLU(Z1)\n",
        "\n",
        "    Z2 = np.dot(A1, trained_params['W2']) + trained_params['b2']\n",
        "    A2 = sigmoid(Z2)\n",
        "\n",
        "    y_prob = A2\n",
        "    y_pred = (A2 >= threshold).astype(int)\n",
        "\n",
        "    return y_prob, y_pred\n"
      ],
      "metadata": {
        "id": "HBBsZf5HpLL_"
      },
      "execution_count": null,
      "outputs": []
    },
    {
      "cell_type": "code",
      "source": [
        "import numpy as np\n",
        "\n",
        "# Input features (X) for XOR: 4 samples, 2 features each\n",
        "X = np.array([\n",
        "    [0, 0],\n",
        "    [0, 1],\n",
        "    [1, 0],\n",
        "    [1, 1]\n",
        "])\n",
        "\n",
        "# Labels (y) for XOR (output is 1 only if inputs differ)\n",
        "y = np.array([\n",
        "    [0],\n",
        "    [1],\n",
        "    [1],\n",
        "    [0]\n",
        "])\n"
      ],
      "metadata": {
        "id": "eajV_cW0MQhh"
      },
      "execution_count": null,
      "outputs": []
    },
    {
      "cell_type": "code",
      "source": [
        "input_size = 2\n",
        "hidden_layer_size = 5\n",
        "output_size = 1"
      ],
      "metadata": {
        "id": "jOvQAEEdM4AD"
      },
      "execution_count": null,
      "outputs": []
    },
    {
      "cell_type": "code",
      "source": [
        "trained_params = train(X, y, input_size, hidden_layer_size, output_size, epochs=1000, learning_rate=0.3)\n"
      ],
      "metadata": {
        "colab": {
          "base_uri": "https://localhost:8080/",
          "height": 1000
        },
        "id": "MeTLCYn-MUeA",
        "outputId": "573ea429-b772-4e37-e656-3acedee11f91"
      },
      "execution_count": null,
      "outputs": [
        {
          "output_type": "stream",
          "name": "stdout",
          "text": [
            "W1[0][0] = -0.001501642861744348\n",
            "Epoch 0, Loss: 0.6931\n",
            "W1[0][0] = -0.01215048022112583\n",
            "Epoch 50, Loss: 0.6930\n",
            "W1[0][0] = -0.04531629974509678\n",
            "Epoch 100, Loss: 0.6918\n",
            "W1[0][0] = -0.16183559551823085\n",
            "Epoch 150, Loss: 0.6773\n",
            "W1[0][0] = -0.4740164771334061\n",
            "Epoch 200, Loss: 0.5738\n",
            "W1[0][0] = -0.8007700178760295\n",
            "Epoch 250, Loss: 0.3229\n",
            "W1[0][0] = -0.9818825135439126\n",
            "Epoch 300, Loss: 0.1291\n",
            "W1[0][0] = -1.0996009316003292\n",
            "Epoch 350, Loss: 0.0701\n",
            "W1[0][0] = -1.1804961253546908\n",
            "Epoch 400, Loss: 0.0462\n",
            "W1[0][0] = -1.2352397527028764\n",
            "Epoch 450, Loss: 0.0337\n",
            "W1[0][0] = -1.2774435520743836\n",
            "Epoch 500, Loss: 0.0263\n",
            "W1[0][0] = -1.310512746722824\n",
            "Epoch 550, Loss: 0.0215\n",
            "W1[0][0] = -1.3376507071487804\n",
            "Epoch 600, Loss: 0.0180\n",
            "W1[0][0] = -1.3624491728950718\n",
            "Epoch 650, Loss: 0.0156\n",
            "W1[0][0] = -1.3818197250932795\n",
            "Epoch 700, Loss: 0.0136\n",
            "W1[0][0] = -1.4003797541218592\n",
            "Epoch 750, Loss: 0.0121\n",
            "W1[0][0] = -1.4154028043476652\n",
            "Epoch 800, Loss: 0.0108\n",
            "W1[0][0] = -1.4301478845570206\n",
            "Epoch 850, Loss: 0.0098\n",
            "W1[0][0] = -1.4434476469402329\n",
            "Epoch 900, Loss: 0.0090\n",
            "W1[0][0] = -1.4550462124136476\n",
            "Epoch 950, Loss: 0.0083\n"
          ]
        },
        {
          "output_type": "display_data",
          "data": {
            "text/plain": [
              "<Figure size 640x480 with 1 Axes>"
            ],
            "image/png": "[encoded data removed]"
          },
          "metadata": {}
        }
      ]
    },
    {
      "cell_type": "code",
      "source": [
        "y_prob, y_pred = predict(X, trained_params)"
      ],
      "metadata": {
        "id": "upRUdL0HqIPg"
      },
      "execution_count": null,
      "outputs": []
    },
    {
      "cell_type": "code",
      "source": [
        "print(y_prob)"
      ],
      "metadata": {
        "colab": {
          "base_uri": "https://localhost:8080/"
        },
        "id": "LchEuZVjqqsC",
        "outputId": "a95cea7b-bf8e-4ab0-a2b2-ba45cd4dcf45"
      },
      "execution_count": null,
      "outputs": [
        {
          "output_type": "stream",
          "name": "stdout",
          "text": [
            "[[0.02160377]\n",
            " [0.99728275]\n",
            " [0.99692821]\n",
            " [0.00301804]]\n"
          ]
        }
      ]
    },
    {
      "cell_type": "code",
      "source": [
        "print(y_pred)"
      ],
      "metadata": {
        "colab": {
          "base_uri": "https://localhost:8080/"
        },
        "id": "lgy7JCTcqMC5",
        "outputId": "3536e0eb-7eca-4633-81a3-d15cb66a2023"
      },
      "execution_count": null,
      "outputs": [
        {
          "output_type": "stream",
          "name": "stdout",
          "text": [
            "[[0]\n",
            " [1]\n",
            " [1]\n",
            " [0]]\n"
          ]
        }
      ]
    }
  ]
}